{
 "cells": [
  {
   "cell_type": "code",
   "execution_count": null,
   "metadata": {},
   "outputs": [],
   "source": [
    "import pandas as pd"
   ]
  },
  {
   "cell_type": "code",
   "execution_count": null,
   "metadata": {},
   "outputs": [],
   "source": [
    "# Read the data \n",
    "rows_to_skip = [0, 1, 2, 3, 5]\n",
    "df = pd.read_csv('2023-07-01-2023-07-31_Railroad Monthly.csv',\n",
    "                 skiprows=rows_to_skip, header=0)\n",
    "\n",
    "df"
   ]
  },
  {
   "cell_type": "code",
   "execution_count": null,
   "metadata": {},
   "outputs": [],
   "source": [
    "if df['POA Sensor'].isna().any():\n",
    "    df['POA Sensor'] = df['POA Sensor'].fillna(-999)\n",
    "    print(\"The Irradiance column has missing values. Please document the issue in the Data Issues spreadsheet.\")\n",
    "else:\n",
    "    print(\"No missing value detected in the Irradiance column \")\n",
    "\n",
    "df"
   ]
  },
  {
   "cell_type": "code",
   "execution_count": null,
   "metadata": {},
   "outputs": [],
   "source": [
    "if df['Production meter active power'].isna().any():\n",
    "    # Specific situations should be considered here.\n",
    "    print(\"The Production meter active power column has missing values. Please document the issue in the Data Issues spreadsheet.\")\n",
    "else:\n",
    "    print(\"No missing value detected in the Production meter active power column \")"
   ]
  },
  {
   "cell_type": "code",
   "execution_count": null,
   "metadata": {},
   "outputs": [],
   "source": [
    "def check_missing_values(column_name, threshold_col='POA Sensor', threshold_val=100):\n",
    "    condition = (df[threshold_col] > threshold_val) & (df[column_name].isna())\n",
    "    if condition.any():\n",
    "        print(f\"There are missing values in the {column_name} column when {threshold_col} is above {threshold_val} W/m2.\")\n",
    "        missing_indices = df[condition].index\n",
    "        for index in missing_indices:\n",
    "            print(f\"Missing value at Index: {index}\")\n",
    "        df.loc[condition, column_name] = -999\n",
    "    else:\n",
    "        print(f\"There are no missing values in the {column_name} column when {threshold_col} is above {threshold_val} W/m2.\")\n",
    "\n",
    "check_missing_values('Weather station ambient temperature')\n",
    "check_missing_values('Max wind speed - Weather Station w/ Module & POA LP02')\n"
   ]
  },
  {
   "cell_type": "code",
   "execution_count": null,
   "metadata": {},
   "outputs": [],
   "source": [
    "df.to_csv('investigate.csv', index=False)"
   ]
  }
 ],
 "metadata": {
  "kernelspec": {
   "display_name": "base",
   "language": "python",
   "name": "python3"
  },
  "language_info": {
   "codemirror_mode": {
    "name": "ipython",
    "version": 3
   },
   "file_extension": ".py",
   "mimetype": "text/x-python",
   "name": "python",
   "nbconvert_exporter": "python",
   "pygments_lexer": "ipython3",
   "version": "3.10.9"
  },
  "orig_nbformat": 4
 },
 "nbformat": 4,
 "nbformat_minor": 2
}
