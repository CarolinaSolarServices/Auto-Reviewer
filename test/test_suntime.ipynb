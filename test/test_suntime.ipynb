{
 "cells": [
  {
   "cell_type": "code",
   "execution_count": 21,
   "metadata": {},
   "outputs": [
    {
     "name": "stdout",
     "output_type": "stream",
     "text": [
      "Today at LA the sun raised at 13:50 and get down at 01:30 UTC\n",
      "On 2023-10-03 the sun at LA raised at 09:48 and get down at 21:34.\n",
      "Error: The sun never rises on this location (on the specified date).\n"
     ]
    }
   ],
   "source": [
    "import datetime\n",
    "from suntime import Sun, SunTimeException\n",
    "\n",
    "latitude = 34\n",
    "longitude = -118\n",
    "\n",
    "sun = Sun(latitude, longitude)\n",
    "\n",
    "# Get today's sunrise and sunset in UTC\n",
    "today_sr = sun.get_sunrise_time()\n",
    "today_ss = sun.get_sunset_time()\n",
    "print('Today at LA the sun raised at {} and get down at {} UTC'.\n",
    "      format(today_sr.strftime('%H:%M'), today_ss.strftime('%H:%M')))\n",
    "\n",
    "# On a special date in your machine's local time zone\n",
    "abd = datetime.date(2023, 10, 3)\n",
    "abd_sr = sun.get_local_sunrise_time(abd)\n",
    "abd_ss = sun.get_local_sunset_time(abd)\n",
    "print('On {} the sun at LA raised at {} and get down at {}.'.\n",
    "      format(abd, abd_sr.strftime('%H:%M'), abd_ss.strftime('%H:%M')))\n",
    "\n",
    "# Error handling (no sunset or sunrise on given location)\n",
    "latitude = 87.55\n",
    "longitude = 0.1\n",
    "sun = Sun(latitude, longitude)\n",
    "try:\n",
    "    abd_sr = sun.get_local_sunrise_time(abd)\n",
    "    abd_ss = sun.get_local_sunset_time(abd)\n",
    "    print('On {} at somewhere in the north the sun raised at {} and get down at {}.'.\n",
    "          format(abd, abd_sr.strftime('%H:%M'), abd_ss.strftime('%H:%M')))\n",
    "except SunTimeException as e:\n",
    "    print(\"Error: {0}.\".format(e))"
   ]
  },
  {
   "cell_type": "code",
   "execution_count": 22,
   "metadata": {},
   "outputs": [],
   "source": [
    "import pandas as pd\n",
    "from timezonefinder import TimezoneFinder\n",
    "\n",
    "\n",
    "def getGeocoding(site_name):\n",
    "    df = pd.read_csv(\"../data/geoCoding.csv\")\n",
    "    row = df.loc[df[\"Site Name\"] == site_name]\n",
    "    if row.empty:\n",
    "        return None, None\n",
    "    return row.iloc[0][\"Latitude\"], row.iloc[0][\"Longitude\"]\n",
    "\n",
    "\n",
    "def getTimeZone(latitude, longitude):\n",
    "    tf = TimezoneFinder()\n",
    "    return tf.timezone_at(lng=longitude, lat=latitude)\n",
    "\n",
    "\n",
    "def getTargetTime(original_time, original_timezone, target_timezone):\n",
    "    if original_time.tzinfo is None:\n",
    "        original_time = original_time.tz_localize(original_timezone)\n",
    "    target_time = original_time.tz_convert(target_timezone)\n",
    "\n",
    "    return target_time\n"
   ]
  },
  {
   "cell_type": "code",
   "execution_count": 23,
   "metadata": {},
   "outputs": [
    {
     "name": "stdout",
     "output_type": "stream",
     "text": [
      "Today at LA the sun raised at 13:50 and get down at 01:30 UTC\n",
      "America/Los_Angeles\n",
      "06:50\n",
      "18:30\n"
     ]
    }
   ],
   "source": [
    "import datetime\n",
    "from suntime import Sun, SunTimeException\n",
    "\n",
    "latitude = 34\n",
    "longitude = -118\n",
    "tz = getTimeZone(latitude, longitude)\n",
    "\n",
    "date = datetime.date(2023, 10, 3)\n",
    "\n",
    "sun = Sun(latitude, longitude)\n",
    "\n",
    "# Get today's sunrise and sunset in UTC\n",
    "sr = sun.get_sunrise_time()\n",
    "ss = sun.get_sunset_time()\n",
    "print('Today at LA the sun raised at {} and get down at {} UTC'.\n",
    "format(sr.strftime('%H:%M'), ss.strftime('%H:%M')))\n",
    "\n",
    "sr_la = getTargetTime(pd.Timestamp(sr),  \"UTC\", tz)\n",
    "ss_la = getTargetTime(pd.Timestamp(ss), \"UTC\", tz)\n",
    "\n",
    "print(tz)\n",
    "# sr_la\n",
    "# ss_la\n",
    "sr = sr_la.strftime('%H:%M')\n",
    "ss = ss_la.strftime('%H:%M')\n",
    "print(sr)\n",
    "print(ss)"
   ]
  },
  {
   "cell_type": "code",
   "execution_count": 24,
   "metadata": {},
   "outputs": [
    {
     "name": "stdout",
     "output_type": "stream",
     "text": [
      "EST\n"
     ]
    }
   ],
   "source": [
    "import time\n",
    "import pytz\n",
    "\n",
    "local_tz = pytz.timezone(time.tzname[0])\n",
    "print(local_tz)"
   ]
  },
  {
   "cell_type": "code",
   "execution_count": 25,
   "metadata": {},
   "outputs": [
    {
     "name": "stdout",
     "output_type": "stream",
     "text": [
      "EDT\n"
     ]
    }
   ],
   "source": [
    "import datetime\n",
    "\n",
    "local_timezone = datetime.datetime.now(datetime.timezone.utc).astimezone().tzinfo\n",
    "print(local_timezone)\n"
   ]
  },
  {
   "cell_type": "code",
   "execution_count": 26,
   "metadata": {},
   "outputs": [
    {
     "name": "stdout",
     "output_type": "stream",
     "text": [
      "tzlocal()\n"
     ]
    }
   ],
   "source": [
    "from dateutil import tz\n",
    "\n",
    "local_timezone = tz.tzlocal()\n",
    "print(local_timezone)\n"
   ]
  }
 ],
 "metadata": {
  "kernelspec": {
   "display_name": "venv",
   "language": "python",
   "name": "python3"
  },
  "language_info": {
   "codemirror_mode": {
    "name": "ipython",
    "version": 3
   },
   "file_extension": ".py",
   "mimetype": "text/x-python",
   "name": "python",
   "nbconvert_exporter": "python",
   "pygments_lexer": "ipython3",
   "version": "3.10.9"
  },
  "orig_nbformat": 4
 },
 "nbformat": 4,
 "nbformat_minor": 2
}
