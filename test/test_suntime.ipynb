{
 "cells": [
  {
   "cell_type": "code",
   "execution_count": null,
   "metadata": {},
   "outputs": [],
   "source": [
    "import datetime\n",
    "from suntime import Sun, SunTimeException\n",
    "\n",
    "latitude = 51.21\n",
    "longitude = 21.01\n",
    "\n",
    "sun = Sun(latitude, longitude)\n",
    "\n",
    "# Get today's sunrise and sunset in UTC\n",
    "today_sr = sun.get_sunrise_time()\n",
    "today_ss = sun.get_sunset_time()\n",
    "print('Today at Warsaw the sun raised at {} and get down at {} UTC'.\n",
    "      format(today_sr.strftime('%H:%M'), today_ss.strftime('%H:%M')))\n",
    "\n",
    "# On a special date in your machine's local time zone\n",
    "abd = datetime.date(2014, 10, 3)\n",
    "abd_sr = sun.get_local_sunrise_time(abd)\n",
    "abd_ss = sun.get_local_sunset_time(abd)\n",
    "print('On {} the sun at Warsaw raised at {} and get down at {}.'.\n",
    "      format(abd, abd_sr.strftime('%H:%M'), abd_ss.strftime('%H:%M')))\n",
    "\n",
    "# Error handling (no sunset or sunrise on given location)\n",
    "latitude = 87.55\n",
    "longitude = 0.1\n",
    "sun = Sun(latitude, longitude)\n",
    "try:\n",
    "    abd_sr = sun.get_local_sunrise_time(abd)\n",
    "    abd_ss = sun.get_local_sunset_time(abd)\n",
    "    print('On {} at somewhere in the north the sun raised at {} and get down at {}.'.\n",
    "          format(abd, abd_sr.strftime('%H:%M'), abd_ss.strftime('%H:%M')))\n",
    "except SunTimeException as e:\n",
    "    print(\"Error: {0}.\".format(e))"
   ]
  }
 ],
 "metadata": {
  "language_info": {
   "name": "python"
  },
  "orig_nbformat": 4
 },
 "nbformat": 4,
 "nbformat_minor": 2
}
