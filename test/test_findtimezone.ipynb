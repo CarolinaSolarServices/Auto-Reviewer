{
 "cells": [
  {
   "cell_type": "code",
   "execution_count": 1,
   "metadata": {},
   "outputs": [],
   "source": [
    "from timezonefinder import TimezoneFinder"
   ]
  },
  {
   "cell_type": "code",
   "execution_count": 2,
   "metadata": {},
   "outputs": [
    {
     "name": "stdout",
     "output_type": "stream",
     "text": [
      "America/Los_Angeles\n"
     ]
    }
   ],
   "source": [
    "def get_timezone(latitude, longitude):\n",
    "    tf = TimezoneFinder()\n",
    "    return tf.timezone_at(lng=longitude, lat=latitude)\n",
    "\n",
    "latitude = 37.7749  # Example latitude (San Francisco)\n",
    "longitude = -122.4194  # Example longitude (San Francisco)\n",
    "\n",
    "timezone = get_timezone(latitude, longitude)\n",
    "print(timezone)\n"
   ]
  },
  {
   "cell_type": "code",
   "execution_count": 3,
   "metadata": {},
   "outputs": [
    {
     "name": "stdout",
     "output_type": "stream",
     "text": [
      "Original time (America/New_York): 2023-10-02 22:44:43\n",
      "Converted time (America/Los_Angeles): 2023-10-02 19:44:43\n"
     ]
    }
   ],
   "source": [
    "from datetime import datetime\n",
    "import pytz\n",
    "\n",
    "def convert_timezone(original_time, original_timezone, target_timezone):\n",
    "    \"\"\"\n",
    "    Convert original_time from original_timezone to target_timezone.\n",
    "\n",
    "    Parameters:\n",
    "        original_time (datetime): The original datetime to convert.\n",
    "        original_timezone (str): The original timezone string (e.g., 'America/New_York').\n",
    "        target_timezone (str): The target timezone string (e.g., 'Europe/London').\n",
    "    \n",
    "    Returns:\n",
    "        datetime: The converted datetime in target_timezone.\n",
    "    \"\"\"\n",
    "    # Set the original timezone\n",
    "    original_time = pytz.timezone(original_timezone).localize(original_time)\n",
    "    \n",
    "    # Convert to the target timezone\n",
    "    target_time = original_time.astimezone(pytz.timezone(target_timezone))\n",
    "    \n",
    "    return target_time\n",
    "\n",
    "# Example usage:\n",
    "original_time = datetime.now()  # get the current time (you can also provide a specific datetime)\n",
    "original_timezone = \"America/New_York\"  # the timezone obtained from the previous step\n",
    "target_timezone = \"America/Los_Angeles\"  # the timezone you want to convert to\n",
    "\n",
    "converted_time = convert_timezone(original_time, original_timezone, target_timezone)\n",
    "\n",
    "print(f\"Original time ({original_timezone}): {original_time.strftime('%Y-%m-%d %H:%M:%S')}\")\n",
    "print(f\"Converted time ({target_timezone}): {converted_time.strftime('%Y-%m-%d %H:%M:%S')}\")\n"
   ]
  }
 ],
 "metadata": {
  "kernelspec": {
   "display_name": "venv",
   "language": "python",
   "name": "python3"
  },
  "language_info": {
   "codemirror_mode": {
    "name": "ipython",
    "version": 3
   },
   "file_extension": ".py",
   "mimetype": "text/x-python",
   "name": "python",
   "nbconvert_exporter": "python",
   "pygments_lexer": "ipython3",
   "version": "3.10.9"
  },
  "orig_nbformat": 4
 },
 "nbformat": 4,
 "nbformat_minor": 2
}
