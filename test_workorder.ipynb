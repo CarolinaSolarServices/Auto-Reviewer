{
 "cells": [
  {
   "cell_type": "code",
   "execution_count": 5,
   "metadata": {},
   "outputs": [],
   "source": [
    "import pandas as pd\n",
    "from prettytable import PrettyTable\n",
    "from datetime import date\n"
   ]
  },
  {
   "cell_type": "code",
   "execution_count": 6,
   "metadata": {},
   "outputs": [],
   "source": [
    "log_messages = []\n",
    "\n",
    "def log(message):\n",
    "    log_messages.append(message)"
   ]
  },
  {
   "cell_type": "code",
   "execution_count": 7,
   "metadata": {},
   "outputs": [],
   "source": [
    "def format_workorders(workorders):\n",
    "    table = PrettyTable()\n",
    "    table.field_names = [\"Index\"] + workorders.columns.tolist()\n",
    "    for index, row in workorders.iterrows():\n",
    "        table.add_row([index] + row.tolist())\n",
    "    return table\n",
    "\n",
    "def fetch_work_order(work_order, missing_dates, site_name):\n",
    "    work_order['Fault/Event Start'] = pd.to_datetime(work_order['Fault/Event Start'], format=\"%b %d, %Y %I:%M:%S %p\")\n",
    "    work_order['Date'] = work_order['Fault/Event Start'].dt.date\n",
    "    fetched_records = work_order[(work_order['Date'].isin(missing_dates)) & (work_order['Site Name'].isin([site_name]))]\n",
    "    if fetched_records.empty:\n",
    "        log(f\"No work orders found for site {site_name} on the missing dates.\")\n",
    "    else:\n",
    "        formatted_table = format_workorders(fetched_records)\n",
    "        log(f\"Information from work order:\\n{formatted_table}\" )\n",
    "\n",
    "    return fetched_records\n"
   ]
  },
  {
   "cell_type": "code",
   "execution_count": 8,
   "metadata": {},
   "outputs": [
    {
     "data": {
      "text/html": [
       "<div>\n",
       "<style scoped>\n",
       "    .dataframe tbody tr th:only-of-type {\n",
       "        vertical-align: middle;\n",
       "    }\n",
       "\n",
       "    .dataframe tbody tr th {\n",
       "        vertical-align: top;\n",
       "    }\n",
       "\n",
       "    .dataframe thead th {\n",
       "        text-align: right;\n",
       "    }\n",
       "</style>\n",
       "<table border=\"1\" class=\"dataframe\">\n",
       "  <thead>\n",
       "    <tr style=\"text-align: right;\">\n",
       "      <th></th>\n",
       "      <th>Site Name</th>\n",
       "      <th>WO#</th>\n",
       "      <th>Fault/Event Start</th>\n",
       "      <th>Fault End</th>\n",
       "      <th>Date When Marked Complete/Incomplete</th>\n",
       "      <th>Description</th>\n",
       "      <th>Date</th>\n",
       "    </tr>\n",
       "  </thead>\n",
       "  <tbody>\n",
       "    <tr>\n",
       "      <th>155</th>\n",
       "      <td>Agate Bay</td>\n",
       "      <td>27412</td>\n",
       "      <td>2023-08-11 22:05:00</td>\n",
       "      <td>Aug 12, 2023 08:35:00 AM</td>\n",
       "      <td>NaN</td>\n",
       "      <td>Site offline</td>\n",
       "      <td>2023-08-11</td>\n",
       "    </tr>\n",
       "    <tr>\n",
       "      <th>266</th>\n",
       "      <td>Agate Bay</td>\n",
       "      <td>27554</td>\n",
       "      <td>2023-08-19 22:15:00</td>\n",
       "      <td>Aug 20, 2023 08:20:00 AM</td>\n",
       "      <td>NaN</td>\n",
       "      <td>Agate Bay - Site - Offline (Grid Outage)</td>\n",
       "      <td>2023-08-19</td>\n",
       "    </tr>\n",
       "  </tbody>\n",
       "</table>\n",
       "</div>"
      ],
      "text/plain": [
       "     Site Name    WO#   Fault/Event Start                 Fault End  \\\n",
       "155  Agate Bay  27412 2023-08-11 22:05:00  Aug 12, 2023 08:35:00 AM   \n",
       "266  Agate Bay  27554 2023-08-19 22:15:00  Aug 20, 2023 08:20:00 AM   \n",
       "\n",
       "    Date When Marked Complete/Incomplete  \\\n",
       "155                                  NaN   \n",
       "266                                  NaN   \n",
       "\n",
       "                                  Description        Date  \n",
       "155                              Site offline  2023-08-11  \n",
       "266  Agate Bay - Site - Offline (Grid Outage)  2023-08-19  "
      ]
     },
     "execution_count": 8,
     "metadata": {},
     "output_type": "execute_result"
    }
   ],
   "source": [
    "\n",
    "work_order = pd.read_csv('(PE)OpenedWOs.csv',skiprows=0, header=0)\n",
    "missing_dates= [date(2023, 8, 11), date(2023, 8, 19)]\n",
    "site_name = 'Agate Bay'\n",
    "fetched_records = fetch_work_order(work_order, missing_dates,site_name)\n",
    "\n",
    "fetched_records"
   ]
  },
  {
   "cell_type": "code",
   "execution_count": null,
   "metadata": {},
   "outputs": [],
   "source": [
    "\n",
    "\n",
    "\n"
   ]
  }
 ],
 "metadata": {
  "kernelspec": {
   "display_name": "venv",
   "language": "python",
   "name": "python3"
  },
  "language_info": {
   "codemirror_mode": {
    "name": "ipython",
    "version": 3
   },
   "file_extension": ".py",
   "mimetype": "text/x-python",
   "name": "python",
   "nbconvert_exporter": "python",
   "pygments_lexer": "ipython3",
   "version": "3.10.9"
  },
  "orig_nbformat": 4
 },
 "nbformat": 4,
 "nbformat_minor": 2
}
